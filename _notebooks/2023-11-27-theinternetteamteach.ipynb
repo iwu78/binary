{
 "cells": [
  {
   "cell_type": "markdown",
   "metadata": {},
   "source": [
    "---\n",
    "toc: true\n",
    "comments: false\n",
    "layout: post\n",
    "title: IP Addresses\n",
    "description: IP Addresses description for team teach\n",
    "type: hacks\n",
    "courses: { compsci: {week: 2} }\n",
    "---"
   ]
  },
  {
   "cell_type": "markdown",
   "metadata": {},
   "source": [
    "## 4.1 The Internet\n",
    "\n",
    "# IP Address\n",
    "\n",
    "What is an IP Address: A numeric label assigned to every device that uses the internet to communicate. IP stands for Internet Protocol. IP addresses are the identifiers that allow data to be sent over the internet. \n",
    " - contain location information\n",
    " - allows devices to communicate over internet\n",
    " - differentiates between computers, routers, and websites\n",
    "\n",
    "A set of 4 8-bit numbers seperated by periods. Each number is in the range 0-255\n",
    " - 4.20.0.255\n",
    "\n",
    "![ipaddresstypes](../../../images/ipaddresstypes.png)\n",
    "\n",
    "1. Unicast - a specific device. Internet wide access. TCP is used\n",
    "2. Multicast - a group of devices. It is specific range of IP addresses. Internet-wide access. UDP is used\n",
    "3. Broadcast - all devices. LAN-wide. Data stops at the router. UDP is used\n",
    "\n",
    "# Want to find IP?\n",
    "\n",
    "For Mac & Windows\n",
    " - whatsmyip.org\n",
    "\n",
    "Windows\n",
    " - Windows + R\n",
    " - Type 'cmd' then enter\n",
    " - type ipconfig\n",
    "\n",
    "\n",
    "\n"
   ]
  }
 ],
 "metadata": {
  "language_info": {
   "name": "python"
  }
 },
 "nbformat": 4,
 "nbformat_minor": 2
}
